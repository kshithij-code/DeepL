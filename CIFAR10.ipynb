{
 "cells": [
  {
   "cell_type": "code",
   "execution_count": 43,
   "metadata": {},
   "outputs": [],
   "source": [
    "import torch\n",
    "import torch.nn as nn\n",
    "import torch.nn.functional as f\n",
    "from torch import optim\n",
    "from torchvision.datasets import CIFAR10,MNIST\n",
    "from torch.utils.data import DataLoader\n",
    "from torchvision.transforms import transforms\n",
    "import matplotlib.pyplot as plt\n",
    "from torchsummary import summary"
   ]
  },
  {
   "cell_type": "code",
   "execution_count": 32,
   "metadata": {},
   "outputs": [],
   "source": [
    "t=transforms.Compose([  transforms.ToTensor(),\n",
    "                        transforms.Normalize((0.5),(0.5)),\n",
    "                        ])"
   ]
  },
  {
   "cell_type": "code",
   "execution_count": 33,
   "metadata": {},
   "outputs": [],
   "source": [
    "# train_data=CIFAR10(root=r\"./data\",train=True,transform=t,download=True)\n",
    "# test_data=CIFAR10(root=r\"./data\",train=False,transform=t,download=True)\n",
    "train_data=MNIST(root=r\"./data\",train=True,transform=t,download=True)\n",
    "test_data=MNIST(root=r\"./data\",train=False,transform=t,download=True)\n"
   ]
  },
  {
   "cell_type": "code",
   "execution_count": 34,
   "metadata": {},
   "outputs": [],
   "source": [
    "train_loader=DataLoader(train_data,batch_size=128,shuffle=True)\n",
    "test_loader=DataLoader(test_data,batch_size=128,shuffle=False)\n"
   ]
  },
  {
   "cell_type": "code",
   "execution_count": 35,
   "metadata": {},
   "outputs": [
    {
     "data": {
      "image/png": "[encoded data removed]",
      "text/plain": [
       "<Figure size 640x480 with 1 Axes>"
      ]
     },
     "metadata": {},
     "output_type": "display_data"
    }
   ],
   "source": [
    "plt.imshow(train_data[1][0][0])\n",
    "plt.show()"
   ]
  },
  {
   "cell_type": "code",
   "execution_count": 59,
   "metadata": {},
   "outputs": [
    {
     "data": {
      "text/plain": [
       "400"
      ]
     },
     "execution_count": 59,
     "metadata": {},
     "output_type": "execute_result"
    }
   ],
   "source": [
    "5*5*16"
   ]
  },
  {
   "cell_type": "code",
   "execution_count": null,
   "metadata": {},
   "outputs": [],
   "source": [
    "class CIFAR_Module(nn.Module):\n",
    "    def __init__(self,in_channel):\n",
    "        self.in_channel=in_channel\n",
    "        super(CIFAR_Module,self).__init__()\n",
    "        self.con1=nn.Conv2d(in_channels=in_channel,out_channels=6*in_channel,kernel_size=5,stride=1,padding=2)\n",
    "        self.pool1=nn.AvgPool2d(2,stride=2)\n",
    "        self.con2=nn.Conv2d(in_channels=6*in_channel,out_channels=16*in_channel,kernel_size=5,stride=1)\n",
    "        self.flat=nn.Flatten()\n",
    "        self.fc1=nn.Linear(5*5*16*in_channel,120*in_channel)\n",
    "        self.fc2=nn.Linear(120*in_channel,84*in_channel)\n",
    "        self.fc3=nn.Linear(84*in_channel,10)\n",
    "    def forward(self,x):\n",
    "        \n",
    "        x=self.con1(x)\n",
    "        x=f.tanh(x)\n",
    "        x=self.pool1(x)\n",
    "        \n",
    "        x=self.con2(x)\n",
    "        x=f.tanh(x)\n",
    "        x=self.pool1(x)\n",
    "        \n",
    "        x=self.flat(x)\n",
    "        x=self.fc1(x)\n",
    "        x=f.tanh(x)\n",
    "        x=self.fc2(x)\n",
    "        x=f.tanh(x)\n",
    "        x=self.fc3(x)\n",
    "        return x"
   ]
  },
  {
   "cell_type": "code",
   "execution_count": 62,
   "metadata": {},
   "outputs": [],
   "source": [
    "in_channel=1\n",
    "model=CIFAR_Module(in_channel)\n",
    "criterian=nn.CrossEntropyLoss()\n",
    "optimizer=optim.Adam(model.parameters(),lr=0.001)\n"
   ]
  },
  {
   "cell_type": "code",
   "execution_count": 63,
   "metadata": {},
   "outputs": [
    {
     "name": "stdout",
     "output_type": "stream",
     "text": [
      "----------------------------------------------------------------\n",
      "        Layer (type)               Output Shape         Param #\n",
      "================================================================\n",
      "            Conv2d-1            [-1, 6, 28, 28]             156\n",
      "         AvgPool2d-2            [-1, 6, 14, 14]               0\n",
      "            Conv2d-3           [-1, 16, 10, 10]           2,416\n",
      "         AvgPool2d-4             [-1, 16, 5, 5]               0\n",
      "           Flatten-5                  [-1, 400]               0\n",
      "            Linear-6                  [-1, 120]          48,120\n",
      "            Linear-7                   [-1, 84]          10,164\n",
      "            Linear-8                   [-1, 10]             850\n",
      "================================================================\n",
      "Total params: 61,706\n",
      "Trainable params: 61,706\n",
      "Non-trainable params: 0\n",
      "----------------------------------------------------------------\n",
      "Input size (MB): 0.00\n",
      "Forward/backward pass size (MB): 0.06\n",
      "Params size (MB): 0.24\n",
      "Estimated Total Size (MB): 0.30\n",
      "----------------------------------------------------------------\n"
     ]
    }
   ],
   "source": [
    "summary(model,input_size=(in_channel,28,28))"
   ]
  },
  {
   "cell_type": "code",
   "execution_count": 64,
   "metadata": {},
   "outputs": [
    {
     "name": "stdout",
     "output_type": "stream",
     "text": [
      "CIFAR_Module(\n",
      "  (con1): Conv2d(1, 6, kernel_size=(5, 5), stride=(1, 1), padding=(2, 2))\n",
      "  (pool1): AvgPool2d(kernel_size=2, stride=2, padding=0)\n",
      "  (con2): Conv2d(6, 16, kernel_size=(5, 5), stride=(1, 1))\n",
      "  (flat): Flatten(start_dim=1, end_dim=-1)\n",
      "  (fc1): Linear(in_features=400, out_features=120, bias=True)\n",
      "  (fc2): Linear(in_features=120, out_features=84, bias=True)\n",
      "  (fc3): Linear(in_features=84, out_features=10, bias=True)\n",
      ")\n"
     ]
    }
   ],
   "source": [
    "print(model)"
   ]
  },
  {
   "cell_type": "code",
   "execution_count": 65,
   "metadata": {},
   "outputs": [
    {
     "name": "stdout",
     "output_type": "stream",
     "text": [
      "epoch[1/10]- loss:0.3529765844059143\n",
      "accuracy: 96.02000000000001\n",
      "epoch[2/10]- loss:0.10809560046632534\n",
      "accuracy: 97.1\n",
      "epoch[3/10]- loss:0.06943205887201562\n",
      "accuracy: 97.78\n",
      "epoch[4/10]- loss:0.05509788697875385\n",
      "accuracy: 98.11\n",
      "epoch[5/10]- loss:0.04190635992519891\n",
      "accuracy: 98.39\n",
      "epoch[6/10]- loss:0.03626983411071985\n",
      "accuracy: 98.29\n",
      "epoch[7/10]- loss:0.029026232327449757\n",
      "accuracy: 98.35000000000001\n",
      "epoch[8/10]- loss:0.02467093761858425\n",
      "accuracy: 98.42999999999999\n",
      "epoch[9/10]- loss:0.020662838421729224\n",
      "accuracy: 98.44000000000001\n",
      "epoch[10/10]- loss:0.017786313667952983\n",
      "accuracy: 98.61999999999999\n"
     ]
    }
   ],
   "source": [
    "# num_epoch=len(train_loader)\n",
    "num_epoch=10\n",
    "for epoch in range(num_epoch):\n",
    "    running_loss=0.0\n",
    "    best=0.0\n",
    "    for image,label in train_loader:\n",
    "        output=model(image)\n",
    "        loss=criterian(output,label)\n",
    "        loss.backward()\n",
    "        optimizer.step()\n",
    "        optimizer.zero_grad()\n",
    "        running_loss+=loss.item()\n",
    "    print(f\"epoch[{epoch+1}/{num_epoch}]- loss:{running_loss/len(train_loader)}\")\n",
    "    model.eval()\n",
    "    with torch.no_grad():\n",
    "        correct=0.0\n",
    "        total=0.0\n",
    "        for image,label in test_loader:\n",
    "            output=model(image)\n",
    "            _,predicted=torch.max(output,1)\n",
    "            correct+=(predicted==label).sum().item()\n",
    "            total+=label.size(0)\n",
    "        accuracy=(correct/total)*100\n",
    "        print(f\"accuracy: {(correct/total)*100}\")\n",
    "        if accuracy>best:\n",
    "            torch.save(model.state_dict(),\"MNIST_model.pth\")"
   ]
  },
  {
   "cell_type": "code",
   "execution_count": 66,
   "metadata": {},
   "outputs": [
    {
     "name": "stdout",
     "output_type": "stream",
     "text": [
      "accuracy: 98.61999999999999\n"
     ]
    }
   ],
   "source": [
    "model.eval()\n",
    "with torch.no_grad():\n",
    "    correct=0.0\n",
    "    total=0.0\n",
    "    for image,label in test_loader:\n",
    "        output=model(image)\n",
    "        _,predicted=torch.max(output,1)\n",
    "        correct+=(predicted==label).sum().item()\n",
    "        total+=label.size(0) \n",
    "    print(f\"accuracy: {(correct/total)*100}\")"
   ]
  },
  {
   "cell_type": "code",
   "execution_count": 67,
   "metadata": {},
   "outputs": [
    {
     "data": {
      "text/plain": [
       "{0, 1, 2, 3, 4, 5, 6, 7, 8, 9}"
      ]
     },
     "execution_count": 67,
     "metadata": {},
     "output_type": "execute_result"
    }
   ],
   "source": [
    "labels=[]\n",
    "for image,label in test_data:\n",
    "    labels.append(label)\n",
    "set(labels)"
   ]
  },
  {
   "cell_type": "code",
   "execution_count": null,
   "metadata": {},
   "outputs": [],
   "source": []
  },
  {
   "cell_type": "code",
   "execution_count": null,
   "metadata": {},
   "outputs": [],
   "source": []
  }
 ],
 "metadata": {
  "kernelspec": {
   "display_name": ".venv",
   "language": "python",
   "name": "python3"
  },
  "language_info": {
   "codemirror_mode": {
    "name": "ipython",
    "version": 3
   },
   "file_extension": ".py",
   "mimetype": "text/x-python",
   "name": "python",
   "nbconvert_exporter": "python",
   "pygments_lexer": "ipython3",
   "version": "3.11.9"
  }
 },
 "nbformat": 4,
 "nbformat_minor": 2
}
