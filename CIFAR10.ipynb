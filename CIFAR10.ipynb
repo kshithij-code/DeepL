{
 "cells": [
  {
   "cell_type": "code",
   "execution_count": 33,
   "metadata": {},
   "outputs": [],
   "source": [
    "import torch\n",
    "import torch.nn as nn\n",
    "import torch.nn.functional as f\n",
    "from torch import optim\n",
    "from torchvision.datasets import CIFAR10,MNIST\n",
    "from torch.utils.data import DataLoader\n",
    "from torchvision.transforms import transforms\n",
    "import matplotlib.pyplot as plt\n",
    "from torchsummary import summary"
   ]
  },
  {
   "cell_type": "code",
   "execution_count": 46,
   "metadata": {},
   "outputs": [],
   "source": [
    "t=transforms.Compose([  transforms.ToTensor(),\n",
    "                        transforms.Normalize((0.5,0.5,0.5),(0.5,0.5,0.5)),\n",
    "                        ])"
   ]
  },
  {
   "cell_type": "code",
   "execution_count": 104,
   "metadata": {},
   "outputs": [
    {
     "name": "stdout",
     "output_type": "stream",
     "text": [
      "Files already downloaded and verified\n",
      "Files already downloaded and verified\n"
     ]
    }
   ],
   "source": [
    "train_data=CIFAR10(root=r\"./data\",train=True,transform=t,download=True)\n",
    "test_data=CIFAR10(root=r\"./data\",train=False,transform=t,download=True)\n",
    "# train_data=MNIST(root=r\"./data\",train=True,transform=t,download=True)\n",
    "# test_data=MNIST(root=r\"./data\",train=False,transform=t,download=True)\n"
   ]
  },
  {
   "cell_type": "code",
   "execution_count": 112,
   "metadata": {},
   "outputs": [],
   "source": [
    "train_loader=DataLoader(train_data,batch_size=128,shuffle=True)\n",
    "test_loader=DataLoader(test_data,batch_size=128,shuffle=False)"
   ]
  },
  {
   "cell_type": "code",
   "execution_count": 106,
   "metadata": {},
   "outputs": [
    {
     "data": {
      "image/png": "[encoded data removed]",
      "text/plain": [
       "<Figure size 640x480 with 1 Axes>"
      ]
     },
     "metadata": {},
     "output_type": "display_data"
    }
   ],
   "source": [
    "plt.imshow(train_data[1][0][0])\n",
    "plt.show()"
   ]
  },
  {
   "cell_type": "code",
   "execution_count": 146,
   "metadata": {},
   "outputs": [],
   "source": [
    "class CIFAR_Module(nn.Module):\n",
    "    def __init__(self,in_channel):\n",
    "        self.in_channel=in_channel\n",
    "        super(CIFAR_Module,self).__init__()\n",
    "        self.con1=nn.Conv2d(in_channel,6*in_channel,5)\n",
    "        self.pool1=nn.MaxPool2d(5,stride=2)\n",
    "        self.con2=nn.Conv2d(6*in_channel,16*in_channel,5)\n",
    "        self.pool2=nn.MaxPool2d(5,stride=2)\n",
    "        self.flat=nn.Flatten()\n",
    "        self.fc1=nn.Linear(192,100*in_channel)\n",
    "        self.fc2=nn.Linear(100*in_channel,40*in_channel)\n",
    "        self.fc3=nn.Linear(40*in_channel,10)\n",
    "    def forward(self,x):\n",
    "        x=self.con1(x)\n",
    "        x=f.relu(x)\n",
    "        x=self.pool1(x)\n",
    "        x=f.relu(x)\n",
    "        x=self.con2(x)\n",
    "        x=f.relu(x)\n",
    "        x=self.pool2(x)\n",
    "        x=self.flat(x)\n",
    "        x=self.fc1(x)\n",
    "        x=f.relu(x)\n",
    "        x=self.fc2(x)\n",
    "        x=f.relu(x)\n",
    "        x=self.fc3(x)\n",
    "        return x"
   ]
  },
  {
   "cell_type": "code",
   "execution_count": 147,
   "metadata": {},
   "outputs": [],
   "source": [
    "model=CIFAR_Module(3)\n",
    "criterian=nn.CrossEntropyLoss()\n",
    "optimizer=optim.Adam(model.parameters(),lr=0.001)\n"
   ]
  },
  {
   "cell_type": "code",
   "execution_count": 148,
   "metadata": {},
   "outputs": [
    {
     "name": "stdout",
     "output_type": "stream",
     "text": [
      "----------------------------------------------------------------\n",
      "        Layer (type)               Output Shape         Param #\n",
      "================================================================\n",
      "            Conv2d-1           [-1, 18, 28, 28]           1,368\n",
      "         MaxPool2d-2           [-1, 18, 12, 12]               0\n",
      "            Conv2d-3             [-1, 48, 8, 8]          21,648\n",
      "         MaxPool2d-4             [-1, 48, 2, 2]               0\n",
      "           Flatten-5                  [-1, 192]               0\n",
      "            Linear-6                  [-1, 300]          57,900\n",
      "            Linear-7                  [-1, 120]          36,120\n",
      "            Linear-8                   [-1, 10]           1,210\n",
      "================================================================\n",
      "Total params: 118,246\n",
      "Trainable params: 118,246\n",
      "Non-trainable params: 0\n",
      "----------------------------------------------------------------\n",
      "Input size (MB): 0.01\n",
      "Forward/backward pass size (MB): 0.16\n",
      "Params size (MB): 0.45\n",
      "Estimated Total Size (MB): 0.62\n",
      "----------------------------------------------------------------\n"
     ]
    }
   ],
   "source": [
    "summary(model,input_size=(3,32,32))"
   ]
  },
  {
   "cell_type": "code",
   "execution_count": 149,
   "metadata": {},
   "outputs": [
    {
     "name": "stdout",
     "output_type": "stream",
     "text": [
      "CIFAR_Module(\n",
      "  (con1): Conv2d(3, 18, kernel_size=(5, 5), stride=(1, 1))\n",
      "  (pool1): MaxPool2d(kernel_size=5, stride=2, padding=0, dilation=1, ceil_mode=False)\n",
      "  (con2): Conv2d(18, 48, kernel_size=(5, 5), stride=(1, 1))\n",
      "  (pool2): MaxPool2d(kernel_size=5, stride=2, padding=0, dilation=1, ceil_mode=False)\n",
      "  (flat): Flatten(start_dim=1, end_dim=-1)\n",
      "  (fc1): Linear(in_features=192, out_features=300, bias=True)\n",
      "  (fc2): Linear(in_features=300, out_features=120, bias=True)\n",
      "  (fc3): Linear(in_features=120, out_features=10, bias=True)\n",
      ")\n"
     ]
    }
   ],
   "source": [
    "print(model)"
   ]
  },
  {
   "cell_type": "code",
   "execution_count": 150,
   "metadata": {},
   "outputs": [
    {
     "name": "stdout",
     "output_type": "stream",
     "text": [
      "epoch[1/10]- loss:1.7081881807283368\n",
      "epoch[2/10]- loss:1.3710589085698432\n",
      "epoch[3/10]- loss:1.220689069736949\n",
      "epoch[4/10]- loss:1.127970708148254\n",
      "epoch[5/10]- loss:1.0480759779510596\n",
      "epoch[6/10]- loss:0.9954065834469807\n",
      "epoch[7/10]- loss:0.9527413178892696\n",
      "epoch[8/10]- loss:0.9123077894110814\n",
      "epoch[9/10]- loss:0.8803341995419749\n",
      "epoch[10/10]- loss:0.8484138572002615\n"
     ]
    }
   ],
   "source": [
    "num_epoch=10\n",
    "for epoch in range(num_epoch):\n",
    "    running_loss=0.0\n",
    "    for image,label in train_loader:\n",
    "        output=model(image)\n",
    "        loss=criterian(output,label)\n",
    "        loss.backward()\n",
    "        optimizer.step()\n",
    "        optimizer.zero_grad()\n",
    "        running_loss+=loss.item()\n",
    "    print(f\"epoch[{epoch+1}/{num_epoch}]- loss:{running_loss/len(train_loader)}\")"
   ]
  },
  {
   "cell_type": "code",
   "execution_count": 151,
   "metadata": {},
   "outputs": [
    {
     "name": "stdout",
     "output_type": "stream",
     "text": [
      "accuracy: 66.86\n"
     ]
    }
   ],
   "source": [
    "model.eval()\n",
    "with torch.no_grad():\n",
    "    correct=0.0\n",
    "    total=0.0\n",
    "    for image,label in test_loader:\n",
    "        output=model(image)\n",
    "        _,predicted=torch.max(output,1)\n",
    "        correct+=(predicted==label).sum().item()\n",
    "        total+=label.size(0) \n",
    "    print(f\"accuracy: {(correct/total)*100}\")"
   ]
  },
  {
   "cell_type": "code",
   "execution_count": null,
   "metadata": {},
   "outputs": [],
   "source": []
  },
  {
   "cell_type": "code",
   "execution_count": null,
   "metadata": {},
   "outputs": [],
   "source": []
  }
 ],
 "metadata": {
  "kernelspec": {
   "display_name": ".venv",
   "language": "python",
   "name": "python3"
  },
  "language_info": {
   "codemirror_mode": {
    "name": "ipython",
    "version": 3
   },
   "file_extension": ".py",
   "mimetype": "text/x-python",
   "name": "python",
   "nbconvert_exporter": "python",
   "pygments_lexer": "ipython3",
   "version": "3.11.9"
  }
 },
 "nbformat": 4,
 "nbformat_minor": 2
}
