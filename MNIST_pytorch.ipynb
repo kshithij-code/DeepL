{
 "cells": [
  {
   "cell_type": "code",
   "execution_count": 2,
   "metadata": {},
   "outputs": [],
   "source": [
    "import torch\n",
    "import torch.nn as nn\n",
    "import torch.nn.functional as f\n",
    "from torch import optim\n",
    "from torchvision.datasets import MNIST\n",
    "from torch.utils.data import DataLoader\n",
    "from torchvision.transforms import transforms"
   ]
  },
  {
   "cell_type": "code",
   "execution_count": 5,
   "metadata": {},
   "outputs": [],
   "source": [
    "t=transforms.Compose([  transforms.ToTensor(),\n",
    "                        transforms.Normalize((0.5),(0.5)),\n",
    "                        ])"
   ]
  },
  {
   "cell_type": "code",
   "execution_count": 6,
   "metadata": {},
   "outputs": [],
   "source": [
    "train_dataset=MNIST(root=r'./data',download=True,transform=t,train=True)\n",
    "test_dataset=MNIST(root=r'./data',download=True,transform=t,train=False)"
   ]
  },
  {
   "cell_type": "code",
   "execution_count": 18,
   "metadata": {},
   "outputs": [],
   "source": [
    "train_loader=DataLoader(train_dataset,batch_size=32,shuffle=True)\n",
    "test_loader=DataLoader(test_dataset,batch_size=32,shuffle=False)"
   ]
  },
  {
   "cell_type": "code",
   "execution_count": 7,
   "metadata": {},
   "outputs": [
    {
     "data": {
      "text/plain": [
       "torch.Size([60000, 28, 28])"
      ]
     },
     "execution_count": 7,
     "metadata": {},
     "output_type": "execute_result"
    }
   ],
   "source": [
    "train_dataset.data.shape"
   ]
  },
  {
   "cell_type": "code",
   "execution_count": null,
   "metadata": {},
   "outputs": [],
   "source": [
    "class SimpleNet(nn.Module):\n",
    "    def __init__(self):\n",
    "        super(SimpleNet,self).__init__()\n",
    "        self.fc1=nn.Linear(28*28,256)\n",
    "        self.fc2=nn.Linear(256,128)\n",
    "        self.fc3=nn.Linear(128,10)\n",
    "    def forward(self,x):\n",
    "        x=x.flatten(1)\n",
    "        x=x.view(-1,784)\n",
    "        x=self.fc1(x)\n",
    "        x=f.relu(x)\n",
    "        x=self.fc2(x)\n",
    "        x=f.relu(x)\n",
    "        x=self.fc3(x)\n",
    "        return x"
   ]
  },
  {
   "cell_type": "code",
   "execution_count": 20,
   "metadata": {},
   "outputs": [],
   "source": [
    "model=SimpleNet()\n",
    "criterian=nn.CrossEntropyLoss()\n",
    "optimizer=optim.Adam(model.parameters(),lr=0.0001)\n"
   ]
  },
  {
   "cell_type": "code",
   "execution_count": 22,
   "metadata": {},
   "outputs": [
    {
     "name": "stdout",
     "output_type": "stream",
     "text": [
      "epoch[1/10]- loss:0.5166990224182606\n",
      "epoch[2/10]- loss:0.2635216014921665\n",
      "epoch[3/10]- loss:0.205489792684714\n",
      "epoch[4/10]- loss:0.1657561663935582\n",
      "epoch[5/10]- loss:0.13823032176444927\n",
      "epoch[6/10]- loss:0.11745140944421291\n",
      "epoch[7/10]- loss:0.10081394655555487\n",
      "epoch[8/10]- loss:0.0876675929085662\n",
      "epoch[9/10]- loss:0.07659107368613283\n",
      "epoch[10/10]- loss:0.06813032680414617\n"
     ]
    }
   ],
   "source": [
    "num_epoch=10\n",
    "for epoch in range(num_epoch):\n",
    "    running_loss=0.0\n",
    "    for image,label in train_loader:\n",
    "        output=model(image)\n",
    "        loss=criterian(output,label)\n",
    "        loss.backward()\n",
    "        optimizer.step()\n",
    "        optimizer.zero_grad()\n",
    "        running_loss+=loss.item()\n",
    "    print(f\"epoch[{epoch+1}/{num_epoch}]- loss:{running_loss/len(train_loader)}\")"
   ]
  },
  {
   "cell_type": "code",
   "execution_count": null,
   "metadata": {},
   "outputs": [
    {
     "name": "stdout",
     "output_type": "stream",
     "text": [
      "accuracy: 97.37\n"
     ]
    }
   ],
   "source": [
    "model.eval()\n",
    "with torch.no_grad():\n",
    "    correct=0.0\n",
    "    total=0.0\n",
    "    for image,label in test_loader:\n",
    "        output=model(image)\n",
    "        _,predicted=torch.max(output,1)\n",
    "        correct+=(predicted==label).sum().item()\n",
    "        total+=label.size(0) \n",
    "    print(f\"accuracy: {(correct/total)*100}\")"
   ]
  },
  {
   "cell_type": "code",
   "execution_count": null,
   "metadata": {},
   "outputs": [],
   "source": []
  }
 ],
 "metadata": {
  "kernelspec": {
   "display_name": ".venv",
   "language": "python",
   "name": "python3"
  },
  "language_info": {
   "codemirror_mode": {
    "name": "ipython",
    "version": 3
   },
   "file_extension": ".py",
   "mimetype": "text/x-python",
   "name": "python",
   "nbconvert_exporter": "python",
   "pygments_lexer": "ipython3",
   "version": "3.11.9"
  }
 },
 "nbformat": 4,
 "nbformat_minor": 2
}
