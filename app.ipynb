{
 "cells": [
  {
   "cell_type": "code",
   "execution_count": 2,
   "metadata": {},
   "outputs": [],
   "source": [
    "import torch\n",
    "import torch.nn as nn\n",
    "from torchvision import models,transforms\n",
    "from PIL import Image\n",
    "import gradio as gr\n",
    "from torchvision.transforms import transforms"
   ]
  },
  {
   "cell_type": "code",
   "execution_count": 4,
   "metadata": {},
   "outputs": [],
   "source": [
    "# model=models.resnet18(pretrained=True)\n",
    "# model.fc=nn.Linear(model.fc.in_features,10)\n",
    "t=transforms.Compose([  transforms.ToTensor(),\n",
    "                        transforms.Normalize((0.5,0.5,0.5),(0.5,0.5,0.5)),\n",
    "                        transforms.RandomHorizontalFlip(0.5),\n",
    "                        transforms.RandomRotation(10),\n",
    "                        ])\n",
    "class_name=[f\"c{i}\" for i in range(1,10)]"
   ]
  },
  {
   "cell_type": "code",
   "execution_count": null,
   "metadata": {},
   "outputs": [],
   "source": [
    "model=models.resnet18()\n",
    "model=model.load_state_dict(torch.load(\"model.pth\",weights_only=True))\n",
    "print(model)\n",
    "def predict(image):\n",
    "    image=t(image).unsqueeze(0)\n"
   ]
  },
  {
   "cell_type": "code",
   "execution_count": null,
   "metadata": {},
   "outputs": [],
   "source": []
  }
 ],
 "metadata": {
  "kernelspec": {
   "display_name": ".venv",
   "language": "python",
   "name": "python3"
  },
  "language_info": {
   "codemirror_mode": {
    "name": "ipython",
    "version": 3
   },
   "file_extension": ".py",
   "mimetype": "text/x-python",
   "name": "python",
   "nbconvert_exporter": "python",
   "pygments_lexer": "ipython3",
   "version": "3.11.9"
  }
 },
 "nbformat": 4,
 "nbformat_minor": 2
}
